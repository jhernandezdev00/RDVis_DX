{
 "cells": [
  {
   "cell_type": "code",
   "execution_count": 2,
   "id": "b28c573a",
   "metadata": {},
   "outputs": [
    {
     "name": "stdout",
     "output_type": "stream",
     "text": [
      "Renombrado completo.\n"
     ]
    }
   ],
   "source": [
    "import os\n",
    "\n",
    "rutaDR = \"../Data/Image_/DR\"\n",
    "rutaNODR= \"../Data/Image_/No_DR\"\n",
    "\n",
    "extensiones = {'.jpg', '.jpeg', '.png'}\n",
    "\n",
    "\n",
    "imagenes = [f for f in os.listdir(rutaNODR) if os.path.splitext(f)[1].lower() in extensiones]\n",
    "imagenes.sort() \n",
    "\n",
    "for i, nombre in enumerate(imagenes, start=1):\n",
    "    extension = os.path.splitext(nombre)[1].lower()\n",
    "    nuevo_nombre = f\"{i}{extension}\"\n",
    "    origen = os.path.join(rutaNODR, nombre)\n",
    "    destino = os.path.join(rutaNODR, nuevo_nombre)\n",
    "    os.rename(origen, destino)\n",
    "\n",
    "print(\"Renombrado completo.\")"
   ]
  }
 ],
 "metadata": {
  "kernelspec": {
   "display_name": "Python 3",
   "language": "python",
   "name": "python3"
  },
  "language_info": {
   "codemirror_mode": {
    "name": "ipython",
    "version": 3
   },
   "file_extension": ".py",
   "mimetype": "text/x-python",
   "name": "python",
   "nbconvert_exporter": "python",
   "pygments_lexer": "ipython3",
   "version": "3.12.8"
  }
 },
 "nbformat": 4,
 "nbformat_minor": 5
}
