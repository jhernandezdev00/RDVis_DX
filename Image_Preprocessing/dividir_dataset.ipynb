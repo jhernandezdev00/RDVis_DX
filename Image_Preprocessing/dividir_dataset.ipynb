{
 "cells": [
  {
   "cell_type": "code",
   "execution_count": 1,
   "id": "b71f5cc0",
   "metadata": {},
   "outputs": [],
   "source": [
    "import os\n",
    "import shutil\n",
    "import random"
   ]
  },
  {
   "cell_type": "code",
   "execution_count": 2,
   "id": "608347e5",
   "metadata": {},
   "outputs": [],
   "source": [
    "#TESINA-CODIGO\\Data\\Img_Preprocessing_Binary\n",
    "origen_rd = '../Data/Image_Preprocessing_Binary_Image/00_NO DR/'\n",
    "origen_no_rd = '../Data/Image_Preprocessing_Binary_Image/01_DR/'\n",
    "destino_base = '../Data/Img_Divide_Data'"
   ]
  },
  {
   "cell_type": "code",
   "execution_count": 3,
   "id": "46d719c9",
   "metadata": {},
   "outputs": [
    {
     "name": "stdout",
     "output_type": "stream",
     "text": [
      "Imágenes divididas exitosamente.\n"
     ]
    }
   ],
   "source": [
    "# Porcentajes\n",
    "train_pct = 0.7\n",
    "val_pct = 0.15\n",
    "test_pct = 0.15\n",
    "\n",
    "# Crear estructura de carpetas\n",
    "def crear_estructura(base_path):\n",
    "    for split in ['train', 'val', 'test']:\n",
    "        for clase in ['RD', 'NO_RD']:\n",
    "            path = os.path.join(base_path, split, clase)\n",
    "            os.makedirs(path, exist_ok=True)\n",
    "\n",
    "# Dividir y mover imágenes\n",
    "def dividir_y_mover(origen, clase):\n",
    "    imagenes = os.listdir(origen)\n",
    "    random.shuffle(imagenes)\n",
    "    \n",
    "    total = len(imagenes)\n",
    "    train_end = int(train_pct * total)\n",
    "    val_end = train_end + int(val_pct * total)\n",
    "    \n",
    "    split_data = {\n",
    "        'train': imagenes[:train_end],\n",
    "        'val': imagenes[train_end:val_end],\n",
    "        'test': imagenes[val_end:]\n",
    "    }\n",
    "    \n",
    "    for split, files in split_data.items():\n",
    "        for file in files:\n",
    "            origen_path = os.path.join(origen, file)\n",
    "            destino_path = os.path.join(destino_base, split, clase, file)\n",
    "            shutil.copy2(origen_path, destino_path)\n",
    "\n",
    "# Ejecución\n",
    "crear_estructura(destino_base)\n",
    "dividir_y_mover(origen_rd, 'RD')\n",
    "dividir_y_mover(origen_no_rd, 'NO_RD')\n",
    "\n",
    "print(\"Imágenes divididas exitosamente.\")"
   ]
  }
 ],
 "metadata": {
  "kernelspec": {
   "display_name": "Python 3",
   "language": "python",
   "name": "python3"
  },
  "language_info": {
   "codemirror_mode": {
    "name": "ipython",
    "version": 3
   },
   "file_extension": ".py",
   "mimetype": "text/x-python",
   "name": "python",
   "nbconvert_exporter": "python",
   "pygments_lexer": "ipython3",
   "version": "3.12.8"
  }
 },
 "nbformat": 4,
 "nbformat_minor": 5
}
